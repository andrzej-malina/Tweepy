{
 "cells": [
  {
   "cell_type": "code",
   "execution_count": 11,
   "metadata": {},
   "outputs": [],
   "source": [
    "from tweepy import API\n",
    "from tweepy import Cursor\n",
    "from tweepy.streaming import StreamListener\n",
    "from tweepy import OAuthHandler\n",
    "from tweepy import Stream"
   ]
  },
  {
   "cell_type": "code",
   "execution_count": 3,
   "metadata": {},
   "outputs": [],
   "source": [
    "#passwords and tokens specific for each twitter user\n",
    "access_token = 'your_access_token'\n",
    "access_token_secret = 'your access token secret'\n",
    "consumer_key = 'your consumer key'\n",
    "consumer_secret = 'your consumer secret'"
   ]
  },
  {
   "cell_type": "code",
   "execution_count": 21,
   "metadata": {},
   "outputs": [],
   "source": [
    "#class for Twitter client\n",
    "class TwitterClient():\n",
    "    def __init__(self, twitter_user=None):\n",
    "        self.auth = TwitterAuthenticator().authenticate_twitter_app()\n",
    "        self.twitter_client = API(self.auth)\n",
    "    \n",
    "        self.twitter_user = twitter_user\n",
    "    def get_user_timeline_tweets(self, num_tweets):\n",
    "        tweets =[]\n",
    "        for tweet in Cursor(self.twitter_client.user_timeline, id=self.twitter_user).items(num_tweets):\n",
    "            tweets.append(tweet)\n",
    "        return tweets\n",
    "    \n",
    "    def get_friend_list(self, num_friends):\n",
    "        friend_list =[]\n",
    "        for friend in Cursor(self.twitter_client.friends, id=self.twitter_user).items(num_friends)\n",
    "            friend_list.append(friend)\n",
    "        return friend_list\n",
    "    \n",
    "    def get_home_timeline_tweets(self, num_tweets):\n",
    "        home_timeline_tweets = []\n",
    "        for tweet in Cursor (self.twitter_client.home_timeline, id=self.twitter_user).items(num_tweets):\n",
    "            home_timeline_tweets.append(tweet)\n",
    "        return home_timeline_tweets"
   ]
  },
  {
   "cell_type": "code",
   "execution_count": 6,
   "metadata": {},
   "outputs": [],
   "source": [
    "#class for Twitter authentification\n",
    "class TwitterAuthenticator():\n",
    "    def authenticate_twitter_app(self):\n",
    "        auth = OAuthHandler(consumer_key, consumer_secret)\n",
    "        auth.set_access_token(access_token, access_token_secret)\n",
    "        \n",
    "        return auth"
   ]
  },
  {
   "cell_type": "code",
   "execution_count": null,
   "metadata": {},
   "outputs": [],
   "source": []
  },
  {
   "cell_type": "code",
   "execution_count": 7,
   "metadata": {},
   "outputs": [],
   "source": [
    "#class responsible for streaming and processing live tweets\n",
    "class TwitterStreamer():\n",
    "    def __init__(self):\n",
    "        self.twitter_authetificator = TwitterAuthenticator()\n",
    "    \n",
    "    def stream_tweets(self, fetched_tweets, hash_tag_list):\n",
    "        #This handles Twitter authentication and connection to Twitter Streaming API\n",
    "        listener = TwittertListener() #obiekt klasy TwitterListener, który dziedziczy po tej klasie\n",
    "        auth = self.twitter_authetificator.authenticate_twitter_app()\n",
    "        stream = Stream(auth, listener)\n",
    "        #this line filters Twitter Streams to capture data by the keywords\n",
    "        stream.filter(track=hash_tag_list)"
   ]
  },
  {
   "cell_type": "code",
   "execution_count": 8,
   "metadata": {},
   "outputs": [],
   "source": [
    "#Basic Listener class that prints received tweets to output\n",
    "class TwitterListener(StreamListener):\n",
    "    \n",
    "    def __init__(self, fetched_tweets):\n",
    "        self.fetched_tweets = fetched_tweets\n",
    "        \n",
    "    def on_data(self, data):\n",
    "        try:\n",
    "            print(data)\n",
    "            with open(self.fetched_tweets, 'a') as tf:\n",
    "                tf.write(data)\n",
    "            return True\n",
    "        except BaseException as e:\n",
    "            print ('Error on_data: %s' % str(e))\n",
    "        return True\n",
    "        \n",
    "    def on_error(self, status):\n",
    "        if status == 420:\n",
    "            #returning False on_error method in case rate limit occurs\n",
    "            return False\n",
    "        print(status)"
   ]
  },
  {
   "cell_type": "code",
   "execution_count": 22,
   "metadata": {},
   "outputs": [
    {
     "name": "stdout",
     "output_type": "stream",
     "text": [
      "[Status(_api=<tweepy.api.API object at 0x000001CCED8B60F0>, _json={'created_at': 'Sun Mar 08 18:53:48 +0000 2020', 'id': 1236726829207207943, 'id_str': '1236726829207207943', 'text': '@vervawarszawapl @Trefl_Gdansk @PlusLiga @PKN_ORLEN @PlusLiga20lat Chyba najslabszy mecz w sezonie 😐 ale lepiej ter… https://t.co/O3kJ4pscL6', 'truncated': True, 'entities': {'hashtags': [], 'symbols': [], 'user_mentions': [{'screen_name': 'vervawarszawapl', 'name': 'VERVA Warszawa ORLEN Paliwa', 'id': 448913111, 'id_str': '448913111', 'indices': [0, 16]}, {'screen_name': 'Trefl_Gdansk', 'name': 'Trefl Gdańsk', 'id': 2776399873, 'id_str': '2776399873', 'indices': [17, 30]}, {'screen_name': 'PlusLiga', 'name': 'LIGA+', 'id': 551867815, 'id_str': '551867815', 'indices': [31, 40]}, {'screen_name': 'PKN_ORLEN', 'name': 'ORLEN', 'id': 1960449908, 'id_str': '1960449908', 'indices': [41, 51]}, {'screen_name': 'PlusLiga20lat', 'name': 'PlusLiga', 'id': 3774313882, 'id_str': '3774313882', 'indices': [52, 66]}], 'urls': [{'url': 'https://t.co/O3kJ4pscL6', 'expanded_url': 'https://twitter.com/i/web/status/1236726829207207943', 'display_url': 'twitter.com/i/web/status/1…', 'indices': [117, 140]}]}, 'source': '<a href=\"http://twitter.com/download/android\" rel=\"nofollow\">Twitter for Android</a>', 'in_reply_to_status_id': 1236725224890077185, 'in_reply_to_status_id_str': '1236725224890077185', 'in_reply_to_user_id': 448913111, 'in_reply_to_user_id_str': '448913111', 'in_reply_to_screen_name': 'vervawarszawapl', 'user': {'id': 2869153881, 'id_str': '2869153881', 'name': 'Wojtek M', 'screen_name': 'wojtek_mac', 'location': '', 'description': '', 'url': None, 'entities': {'description': {'urls': []}}, 'protected': False, 'followers_count': 17, 'friends_count': 68, 'listed_count': 1, 'created_at': 'Sun Nov 09 16:30:56 +0000 2014', 'favourites_count': 120, 'utc_offset': None, 'time_zone': None, 'geo_enabled': True, 'verified': False, 'statuses_count': 104, 'lang': None, 'contributors_enabled': False, 'is_translator': False, 'is_translation_enabled': False, 'profile_background_color': '000000', 'profile_background_image_url': 'http://abs.twimg.com/images/themes/theme1/bg.png', 'profile_background_image_url_https': 'https://abs.twimg.com/images/themes/theme1/bg.png', 'profile_background_tile': False, 'profile_image_url': 'http://pbs.twimg.com/profile_images/534453073121275904/4jN6acDM_normal.jpeg', 'profile_image_url_https': 'https://pbs.twimg.com/profile_images/534453073121275904/4jN6acDM_normal.jpeg', 'profile_link_color': 'FA743E', 'profile_sidebar_border_color': '000000', 'profile_sidebar_fill_color': '000000', 'profile_text_color': '000000', 'profile_use_background_image': False, 'has_extended_profile': True, 'default_profile': False, 'default_profile_image': False, 'following': True, 'follow_request_sent': False, 'notifications': False, 'translator_type': 'none'}, 'geo': None, 'coordinates': None, 'place': None, 'contributors': None, 'is_quote_status': False, 'retweet_count': 0, 'favorite_count': 0, 'favorited': False, 'retweeted': False, 'lang': 'pl'}, created_at=datetime.datetime(2020, 3, 8, 18, 53, 48), id=1236726829207207943, id_str='1236726829207207943', text='@vervawarszawapl @Trefl_Gdansk @PlusLiga @PKN_ORLEN @PlusLiga20lat Chyba najslabszy mecz w sezonie 😐 ale lepiej ter… https://t.co/O3kJ4pscL6', truncated=True, entities={'hashtags': [], 'symbols': [], 'user_mentions': [{'screen_name': 'vervawarszawapl', 'name': 'VERVA Warszawa ORLEN Paliwa', 'id': 448913111, 'id_str': '448913111', 'indices': [0, 16]}, {'screen_name': 'Trefl_Gdansk', 'name': 'Trefl Gdańsk', 'id': 2776399873, 'id_str': '2776399873', 'indices': [17, 30]}, {'screen_name': 'PlusLiga', 'name': 'LIGA+', 'id': 551867815, 'id_str': '551867815', 'indices': [31, 40]}, {'screen_name': 'PKN_ORLEN', 'name': 'ORLEN', 'id': 1960449908, 'id_str': '1960449908', 'indices': [41, 51]}, {'screen_name': 'PlusLiga20lat', 'name': 'PlusLiga', 'id': 3774313882, 'id_str': '3774313882', 'indices': [52, 66]}], 'urls': [{'url': 'https://t.co/O3kJ4pscL6', 'expanded_url': 'https://twitter.com/i/web/status/1236726829207207943', 'display_url': 'twitter.com/i/web/status/1…', 'indices': [117, 140]}]}, source='Twitter for Android', source_url='http://twitter.com/download/android', in_reply_to_status_id=1236725224890077185, in_reply_to_status_id_str='1236725224890077185', in_reply_to_user_id=448913111, in_reply_to_user_id_str='448913111', in_reply_to_screen_name='vervawarszawapl', author=User(_api=<tweepy.api.API object at 0x000001CCED8B60F0>, _json={'id': 2869153881, 'id_str': '2869153881', 'name': 'Wojtek M', 'screen_name': 'wojtek_mac', 'location': '', 'description': '', 'url': None, 'entities': {'description': {'urls': []}}, 'protected': False, 'followers_count': 17, 'friends_count': 68, 'listed_count': 1, 'created_at': 'Sun Nov 09 16:30:56 +0000 2014', 'favourites_count': 120, 'utc_offset': None, 'time_zone': None, 'geo_enabled': True, 'verified': False, 'statuses_count': 104, 'lang': None, 'contributors_enabled': False, 'is_translator': False, 'is_translation_enabled': False, 'profile_background_color': '000000', 'profile_background_image_url': 'http://abs.twimg.com/images/themes/theme1/bg.png', 'profile_background_image_url_https': 'https://abs.twimg.com/images/themes/theme1/bg.png', 'profile_background_tile': False, 'profile_image_url': 'http://pbs.twimg.com/profile_images/534453073121275904/4jN6acDM_normal.jpeg', 'profile_image_url_https': 'https://pbs.twimg.com/profile_images/534453073121275904/4jN6acDM_normal.jpeg', 'profile_link_color': 'FA743E', 'profile_sidebar_border_color': '000000', 'profile_sidebar_fill_color': '000000', 'profile_text_color': '000000', 'profile_use_background_image': False, 'has_extended_profile': True, 'default_profile': False, 'default_profile_image': False, 'following': True, 'follow_request_sent': False, 'notifications': False, 'translator_type': 'none'}, id=2869153881, id_str='2869153881', name='Wojtek M', screen_name='wojtek_mac', location='', description='', url=None, entities={'description': {'urls': []}}, protected=False, followers_count=17, friends_count=68, listed_count=1, created_at=datetime.datetime(2014, 11, 9, 16, 30, 56), favourites_count=120, utc_offset=None, time_zone=None, geo_enabled=True, verified=False, statuses_count=104, lang=None, contributors_enabled=False, is_translator=False, is_translation_enabled=False, profile_background_color='000000', profile_background_image_url='http://abs.twimg.com/images/themes/theme1/bg.png', profile_background_image_url_https='https://abs.twimg.com/images/themes/theme1/bg.png', profile_background_tile=False, profile_image_url='http://pbs.twimg.com/profile_images/534453073121275904/4jN6acDM_normal.jpeg', profile_image_url_https='https://pbs.twimg.com/profile_images/534453073121275904/4jN6acDM_normal.jpeg', profile_link_color='FA743E', profile_sidebar_border_color='000000', profile_sidebar_fill_color='000000', profile_text_color='000000', profile_use_background_image=False, has_extended_profile=True, default_profile=False, default_profile_image=False, following=True, follow_request_sent=False, notifications=False, translator_type='none'), user=User(_api=<tweepy.api.API object at 0x000001CCED8B60F0>, _json={'id': 2869153881, 'id_str': '2869153881', 'name': 'Wojtek M', 'screen_name': 'wojtek_mac', 'location': '', 'description': '', 'url': None, 'entities': {'description': {'urls': []}}, 'protected': False, 'followers_count': 17, 'friends_count': 68, 'listed_count': 1, 'created_at': 'Sun Nov 09 16:30:56 +0000 2014', 'favourites_count': 120, 'utc_offset': None, 'time_zone': None, 'geo_enabled': True, 'verified': False, 'statuses_count': 104, 'lang': None, 'contributors_enabled': False, 'is_translator': False, 'is_translation_enabled': False, 'profile_background_color': '000000', 'profile_background_image_url': 'http://abs.twimg.com/images/themes/theme1/bg.png', 'profile_background_image_url_https': 'https://abs.twimg.com/images/themes/theme1/bg.png', 'profile_background_tile': False, 'profile_image_url': 'http://pbs.twimg.com/profile_images/534453073121275904/4jN6acDM_normal.jpeg', 'profile_image_url_https': 'https://pbs.twimg.com/profile_images/534453073121275904/4jN6acDM_normal.jpeg', 'profile_link_color': 'FA743E', 'profile_sidebar_border_color': '000000', 'profile_sidebar_fill_color': '000000', 'profile_text_color': '000000', 'profile_use_background_image': False, 'has_extended_profile': True, 'default_profile': False, 'default_profile_image': False, 'following': True, 'follow_request_sent': False, 'notifications': False, 'translator_type': 'none'}, id=2869153881, id_str='2869153881', name='Wojtek M', screen_name='wojtek_mac', location='', description='', url=None, entities={'description': {'urls': []}}, protected=False, followers_count=17, friends_count=68, listed_count=1, created_at=datetime.datetime(2014, 11, 9, 16, 30, 56), favourites_count=120, utc_offset=None, time_zone=None, geo_enabled=True, verified=False, statuses_count=104, lang=None, contributors_enabled=False, is_translator=False, is_translation_enabled=False, profile_background_color='000000', profile_background_image_url='http://abs.twimg.com/images/themes/theme1/bg.png', profile_background_image_url_https='https://abs.twimg.com/images/themes/theme1/bg.png', profile_background_tile=False, profile_image_url='http://pbs.twimg.com/profile_images/534453073121275904/4jN6acDM_normal.jpeg', profile_image_url_https='https://pbs.twimg.com/profile_images/534453073121275904/4jN6acDM_normal.jpeg', profile_link_color='FA743E', profile_sidebar_border_color='000000', profile_sidebar_fill_color='000000', profile_text_color='000000', profile_use_background_image=False, has_extended_profile=True, default_profile=False, default_profile_image=False, following=True, follow_request_sent=False, notifications=False, translator_type='none'), geo=None, coordinates=None, place=None, contributors=None, is_quote_status=False, retweet_count=0, favorite_count=0, favorited=False, retweeted=False, lang='pl')]\n"
     ]
    }
   ],
   "source": [
    "if __name__ == '__main__':\n",
    "    hash_tag_list =['covid']\n",
    "    fetched_tweets = 'tweets.json'\n",
    "    \n",
    "    twitter_client = TwitterClient('wojtek_mac')\n",
    "    print (twitter_client.get_user_timeline_tweets(1))\n",
    "    #twitter_streamer = TwitterStreamer()\n",
    "    #twitter_streamer.stream_tweets(fetched_tweets, hash_tag_list)"
   ]
  },
  {
   "cell_type": "code",
   "execution_count": null,
   "metadata": {},
   "outputs": [],
   "source": []
  }
 ],
 "metadata": {
  "kernelspec": {
   "display_name": "Python 3",
   "language": "python",
   "name": "python3"
  },
  "language_info": {
   "codemirror_mode": {
    "name": "ipython",
    "version": 3
   },
   "file_extension": ".py",
   "mimetype": "text/x-python",
   "name": "python",
   "nbconvert_exporter": "python",
   "pygments_lexer": "ipython3",
   "version": "3.7.3"
  }
 },
 "nbformat": 4,
 "nbformat_minor": 2
}
