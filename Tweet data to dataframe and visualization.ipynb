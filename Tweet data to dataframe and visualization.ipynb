{
 "cells": [
  {
   "cell_type": "code",
   "execution_count": 52,
   "metadata": {},
   "outputs": [],
   "source": [
    "from tweepy import API\n",
    "from tweepy import Cursor\n",
    "from tweepy.streaming import StreamListener\n",
    "from tweepy import OAuthHandler\n",
    "from tweepy import Stream\n",
    "\n",
    "import numpy as np\n",
    "import pandas as pd\n",
    "import matplotlib.pyplot as plt"
   ]
  },
  {
   "cell_type": "code",
   "execution_count": 5,
   "metadata": {},
   "outputs": [],
   "source": [
    "#passwords and tokens specific for each twitter user\n",
    "access_token = 'your_access_token'\n",
    "access_token_secret = 'your access token secret'\n",
    "consumer_key = 'your consumer key'\n",
    "consumer_secret = 'your consumer secret'"
   ]
  },
  {
   "cell_type": "code",
   "execution_count": 20,
   "metadata": {},
   "outputs": [],
   "source": [
    "#class for Twitter client\n",
    "class TwitterClient():\n",
    "    def __init__(self, twitter_user=None):\n",
    "        self.auth = TwitterAuthenticator().authenticate_twitter_app()\n",
    "        self.twitter_client = API(self.auth)\n",
    "        self.twitter_user = twitter_user\n",
    "        \n",
    "    def get_twitter_client_api(self):\n",
    "        return self.twitter_client\n",
    "    \n",
    "    def get_user_timeline_tweets(self, num_tweets):\n",
    "        tweets =[]\n",
    "        for tweet in Cursor(self.twitter_client.user_timeline, id=self.twitter_user).items(num_tweets):\n",
    "            tweets.append(tweet)\n",
    "        return tweets\n",
    "    \n",
    "    def get_friend_list(self, num_friends):\n",
    "        friend_list =[]\n",
    "        for friend in Cursor(self.twitter_client.friends, id=self.twitter_user).items(num_friends):\n",
    "            friend_list.append(friend)\n",
    "        return friend_list\n",
    "    \n",
    "    def get_home_timeline_tweets(self, num_tweets):\n",
    "        home_timeline_tweets = []\n",
    "        for tweet in Cursor (self.twitter_client.home_timeline, id=self.twitter_user).items(num_tweets):\n",
    "            home_timeline_tweets.append(tweet)\n",
    "        return home_timeline_tweets"
   ]
  },
  {
   "cell_type": "code",
   "execution_count": 7,
   "metadata": {},
   "outputs": [],
   "source": [
    "#class for Twitter authentification\n",
    "class TwitterAuthenticator():\n",
    "    def authenticate_twitter_app(self):\n",
    "        auth = OAuthHandler(consumer_key, consumer_secret)\n",
    "        auth.set_access_token(access_token, access_token_secret)\n",
    "        \n",
    "        return auth"
   ]
  },
  {
   "cell_type": "code",
   "execution_count": 8,
   "metadata": {},
   "outputs": [],
   "source": [
    "#class responsible for streaming and processing live tweets\n",
    "class TwitterStreamer():\n",
    "    def __init__(self):\n",
    "        self.twitter_authetificator = TwitterAuthenticator()\n",
    "    \n",
    "    def stream_tweets(self, fetched_tweets, hash_tag_list):\n",
    "        #This handles Twitter authentication and connection to Twitter Streaming API\n",
    "        listener = TwittertListener() #obiekt klasy TwitterListener, który dziedziczy po tej klasie\n",
    "        auth = self.twitter_authetificator.authenticate_twitter_app()\n",
    "        stream = Stream(auth, listener)\n",
    "        #this line filters Twitter Streams to capture data by the keywords\n",
    "        stream.filter(track=hash_tag_list)"
   ]
  },
  {
   "cell_type": "code",
   "execution_count": 9,
   "metadata": {},
   "outputs": [],
   "source": [
    "#Basic Listener class that prints received tweets to output\n",
    "class TwitterListener(StreamListener):\n",
    "    \n",
    "    def __init__(self, fetched_tweets):\n",
    "        self.fetched_tweets = fetched_tweets\n",
    "        \n",
    "    def on_data(self, data):\n",
    "        try:\n",
    "            print(data)\n",
    "            with open(self.fetched_tweets, 'a') as tf:\n",
    "                tf.write(data)\n",
    "            return True\n",
    "        except BaseException as e:\n",
    "            print ('Error on_data: %s' % str(e))\n",
    "        return True\n",
    "        \n",
    "    def on_error(self, status):\n",
    "        if status == 420:\n",
    "            #returning False on_error method in case rate limit occurs\n",
    "            return False\n",
    "        print(status)"
   ]
  },
  {
   "cell_type": "code",
   "execution_count": 61,
   "metadata": {},
   "outputs": [],
   "source": [
    "#class for analysing and categorizing content from tweets\n",
    "class TweetAnalyzer():\n",
    "    \n",
    "    def clean_tweet(self, tweet):\n",
    "        return ' '.join(re.sub(\"(@[A-Za-z0-9]+)|([^0-9A-Za-z \\t])|(\\w+:\\/\\/\\S+)\", \" \", tweet).split())\n",
    "    \n",
    "    def analyze_sentiment(self, tweet):\n",
    "        analysis = TextBlob(self.clean_tweet(tweet))\n",
    "        \n",
    "        if analysis.sentiment.polarity > 0:\n",
    "            return 1\n",
    "        elif analysis.sentiment.polarity == 0:\n",
    "            return 0\n",
    "        else:\n",
    "            return -1\n",
    "    \n",
    "    def tweets_to_data_frame(self, tweets):\n",
    "        df = pd.DataFrame(data=[tweet.text for tweet in tweets], columns=['tweets'])\n",
    "        df['id'] = np.array([tweet.id for tweet in tweets])\n",
    "        df['length'] = np.array([len(tweet.text) for tweet in tweets])\n",
    "        df['date'] = np.array([tweet.created_at for tweet in tweets])\n",
    "        df['source'] = np.array([tweet.source for tweet in tweets])\n",
    "        df['like'] = np.array([tweet.favorite_count for tweet in tweets])\n",
    "        df['retweets'] = np.array([tweet.retweet_count for tweet in tweets])\n",
    "        return df"
   ]
  },
  {
   "cell_type": "code",
   "execution_count": 65,
   "metadata": {},
   "outputs": [
    {
     "name": "stdout",
     "output_type": "stream",
     "text": [
      "136.415\n",
      "159\n",
      "1432\n"
     ]
    }
   ],
   "source": [
    "if __name__ == '__main__':\n",
    "    \n",
    "    twitter_client = TwitterClient()\n",
    "    tweet_analyzer = TweetAnalyzer()\n",
    "    api = twitter_client.get_twitter_client_api()\n",
    "    \n",
    "    tweets = api.user_timeline(screen_name='Scienceofsport', count=400)\n",
    "    \n",
    "    df = tweet_analyzer.tweets_to_data_frame(tweets)\n",
    "    print(np.mean(df['length']))\n",
    "    print(np.max(df['like']))\n",
    "    print(np.max(df['retweets']))\n",
    "    #print(df)\n",
    "    #print(dir(tweets[0]))\n",
    "    #print(tweets[0].retweet_count)\n",
    "    #print(tweets[0].id)"
   ]
  },
  {
   "cell_type": "code",
   "execution_count": 66,
   "metadata": {},
   "outputs": [
    {
     "data": {
      "image/png": "[encoded data removed]",
      "text/plain": [
       "<Figure size 1152x288 with 1 Axes>"
      ]
     },
     "metadata": {
      "needs_background": "light"
     },
     "output_type": "display_data"
    }
   ],
   "source": [
    "#visualization of number of likes during the time\n",
    "time_likes = pd.Series(data = df['like'].values, index = df['date'])\n",
    "time_likes.plot(figsize=(16,4), color='b')\n",
    "plt.show()"
   ]
  },
  {
   "cell_type": "code",
   "execution_count": 67,
   "metadata": {},
   "outputs": [
    {
     "data": {
      "image/png": "[encoded data removed]",
      "text/plain": [
       "<Figure size 1152x288 with 1 Axes>"
      ]
     },
     "metadata": {
      "needs_background": "light"
     },
     "output_type": "display_data"
    }
   ],
   "source": [
    "time_likes = pd.Series(data = df['retweets'].values, index = df['date'])\n",
    "time_likes.plot(figsize=(16,4), color='b')\n",
    "plt.show()"
   ]
  },
  {
   "cell_type": "code",
   "execution_count": 68,
   "metadata": {},
   "outputs": [
    {
     "data": {
      "image/png": "[encoded data removed]",
      "text/plain": [
       "<Figure size 1152x288 with 1 Axes>"
      ]
     },
     "metadata": {
      "needs_background": "light"
     },
     "output_type": "display_data"
    }
   ],
   "source": [
    "#both graphs on one plot\n",
    "time_likes = pd.Series(data = df['like'].values, index = df['date'])\n",
    "time_likes.plot(figsize=(16,4), label='likes', legend=True)\n",
    "\n",
    "time_likes = pd.Series(data = df['retweets'].values, index = df['date'])\n",
    "time_likes.plot(figsize=(16,4), label='retweets', legend=True)\n",
    "plt.show()"
   ]
  },
  {
   "cell_type": "markdown",
   "metadata": {},
   "source": [
    "Sentiment analysis"
   ]
  },
  {
   "cell_type": "code",
   "execution_count": 69,
   "metadata": {},
   "outputs": [],
   "source": [
    "from textblob import TextBlob\n",
    "import re"
   ]
  },
  {
   "cell_type": "code",
   "execution_count": 70,
   "metadata": {},
   "outputs": [],
   "source": [
    "tweet_analyzer = TweetAnalyzer()\n",
    "df['sentiment'] = np.array([tweet_analyzer.analyze_sentiment(tweet) for tweet in df['tweets']])"
   ]
  },
  {
   "cell_type": "code",
   "execution_count": 72,
   "metadata": {},
   "outputs": [
    {
     "data": {
      "text/plain": [
       " 1    88\n",
       " 0    82\n",
       "-1    30\n",
       "Name: sentiment, dtype: int64"
      ]
     },
     "execution_count": 72,
     "metadata": {},
     "output_type": "execute_result"
    }
   ],
   "source": [
    "df['sentiment'].value_counts()"
   ]
  },
  {
   "cell_type": "code",
   "execution_count": null,
   "metadata": {},
   "outputs": [],
   "source": []
  }
 ],
 "metadata": {
  "kernelspec": {
   "display_name": "Python 3",
   "language": "python",
   "name": "python3"
  },
  "language_info": {
   "codemirror_mode": {
    "name": "ipython",
    "version": 3
   },
   "file_extension": ".py",
   "mimetype": "text/x-python",
   "name": "python",
   "nbconvert_exporter": "python",
   "pygments_lexer": "ipython3",
   "version": "3.7.3"
  }
 },
 "nbformat": 4,
 "nbformat_minor": 2
}
